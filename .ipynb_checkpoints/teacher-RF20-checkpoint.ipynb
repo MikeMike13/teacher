{
 "cells": [
  {
   "cell_type": "markdown",
   "metadata": {
    "toc": true
   },
   "source": [
    "<h1>Содержание<span class=\"tocSkip\"></span></h1>\n",
    "<div class=\"toc\"><ul class=\"toc-item\"><li><span><a href=\"#Подготовка-данныx\" data-toc-modified-id=\"Подготовка-данныx-1\"><span class=\"toc-item-num\">1&nbsp;&nbsp;</span>Подготовка данныx</a></span></li><li><span><a href=\"#Исследование-задачи\" data-toc-modified-id=\"Исследование-задачи-2\"><span class=\"toc-item-num\">2&nbsp;&nbsp;</span>Исследование задачи</a></span></li><li><span><a href=\"#Борьба-с-дисбалансом\" data-toc-modified-id=\"Борьба-с-дисбалансом-3\"><span class=\"toc-item-num\">3&nbsp;&nbsp;</span>Борьба с дисбалансом</a></span></li><li><span><a href=\"#Тестирование-модели\" data-toc-modified-id=\"Тестирование-модели-4\"><span class=\"toc-item-num\">4&nbsp;&nbsp;</span>Тестирование модели</a></span></li><li><span><a href=\"#Чек-лист-готовности-проекта\" data-toc-modified-id=\"Чек-лист-готовности-проекта-5\"><span class=\"toc-item-num\">5&nbsp;&nbsp;</span>Чек-лист готовности проекта</a></span></li></ul></div>"
   ]
  },
  {
   "cell_type": "markdown",
   "metadata": {},
   "source": [
    "# Отток клиентов"
   ]
  },
  {
   "cell_type": "markdown",
   "metadata": {},
   "source": [
    "Из «Бета-Банка» стали уходить клиенты. Каждый месяц. Немного, но заметно. Банковские маркетологи посчитали: сохранять текущих клиентов дешевле, чем привлекать новых.\n",
    "\n",
    "Нужно спрогнозировать, уйдёт клиент из банка в ближайшее время или нет. Вам предоставлены исторические данные о поведении клиентов и расторжении договоров с банком. \n",
    "\n",
    "Постройте модель с предельно большим значением *F1*-меры. Чтобы сдать проект успешно, нужно довести метрику до 0.59. Проверьте *F1*-меру на тестовой выборке самостоятельно.\n",
    "\n",
    "Дополнительно измеряйте *AUC-ROC*, сравнивайте её значение с *F1*-мерой.\n",
    "\n",
    "Источник данных: [https://www.kaggle.com/barelydedicated/bank-customer-churn-modeling](https://www.kaggle.com/barelydedicated/bank-customer-churn-modeling)"
   ]
  },
  {
   "cell_type": "markdown",
   "metadata": {},
   "source": [
    "Цель проекта - проанализировать банковские данные о клиентах и на основании них построить модель, которая будет прогнозировать уйдет клиент или останется.\n",
    "\n",
    "Для анализа испольуется файл с 10000 записями о клиентах с информацией о id, фамилии, кредитном рейтинге, месте проживания, поле, возрасте, колества лет, в течении которых клиент обслуживатеся в банке, количества продусктов которые он использует, его балансе, а также пользуеся ли он кредитными продуктами и является ли активным клиентом. Вместе с этими данными предоставлена и историческая информация ушел клиент или нет.\n",
    "\n",
    "Анализ будет состоять из обработки данных, разделения данных на обучающую, валидационную и тестовую выбрки. Применения к  обучающей и валидационной различных подходов для классификации данныз и проверка наилучшего подхода на тестовой выборке по значениею F1 и построению AUC кривой. \n",
    "\n",
    "В результате будет предложена модель со значением F1 не менее 0.59 для использования в будущем"
   ]
  },
  {
   "cell_type": "code",
   "execution_count": 359,
   "metadata": {},
   "outputs": [],
   "source": [
    "import numpy as np\n",
    "import matplotlib.pyplot as plt \n",
    "import pandas as pd\n",
    "import seaborn as sns\n",
    "from sklearn.tree import DecisionTreeClassifier\n",
    "from sklearn.linear_model import LinearRegression\n",
    "from sklearn.model_selection import train_test_split\n",
    "from sklearn.metrics import mean_squared_error\n",
    "from sklearn.metrics import accuracy_score\n",
    "from sklearn.ensemble import RandomForestClassifier\n",
    "from sklearn.linear_model import LogisticRegression \n",
    "from sklearn.dummy import DummyClassifier\n",
    "from sklearn.preprocessing import StandardScaler \n",
    "from sklearn.metrics import f1_score\n",
    "from sklearn.utils import shuffle\n",
    "from sklearn.metrics import precision_recall_curve\n",
    "from sklearn .metrics import roc_auc_score\n",
    "from sklearn.metrics import roc_curve \n",
    "from sklearn.utils.class_weight import compute_class_weight\n",
    "from sklearn.ensemble import RandomForestRegressor"
   ]
  },
  {
   "cell_type": "markdown",
   "metadata": {},
   "source": [
    "## Подготовка данныx"
   ]
  },
  {
   "cell_type": "code",
   "execution_count": 360,
   "metadata": {},
   "outputs": [],
   "source": [
    "def read_df(PATH,do_all):\n",
    "    try:\n",
    "        data = pd.read_csv(PATH)\n",
    "    except:\n",
    "        data = pd.read_csv('https://code.s3.yandex.net/datasets/data.csv')\n",
    "    if do_all:\n",
    "        display(data.info())\n",
    "        display(data.describe())\n",
    "        data.hist(figsize=(6, 4));\n",
    "        display(pd.DataFrame(round(data.isna().mean().sort_values(ascending=False)*100,1)).style.background_gradient('coolwarm'))\n",
    "        display(data.head(5))\n",
    "        sns.pairplot(data)\n",
    "    else:\n",
    "        display(data.info())\n",
    "            \n",
    "    return data"
   ]
  },
  {
   "cell_type": "code",
   "execution_count": 361,
   "metadata": {},
   "outputs": [
    {
     "name": "stdout",
     "output_type": "stream",
     "text": [
      "<class 'pandas.core.frame.DataFrame'>\n",
      "RangeIndex: 10000 entries, 0 to 9999\n",
      "Data columns (total 14 columns):\n",
      " #   Column           Non-Null Count  Dtype  \n",
      "---  ------           --------------  -----  \n",
      " 0   RowNumber        10000 non-null  int64  \n",
      " 1   CustomerId       10000 non-null  int64  \n",
      " 2   Surname          10000 non-null  object \n",
      " 3   CreditScore      10000 non-null  int64  \n",
      " 4   Geography        10000 non-null  object \n",
      " 5   Gender           10000 non-null  object \n",
      " 6   Age              10000 non-null  int64  \n",
      " 7   Tenure           9091 non-null   float64\n",
      " 8   Balance          10000 non-null  float64\n",
      " 9   NumOfProducts    10000 non-null  int64  \n",
      " 10  HasCrCard        10000 non-null  int64  \n",
      " 11  IsActiveMember   10000 non-null  int64  \n",
      " 12  EstimatedSalary  10000 non-null  float64\n",
      " 13  Exited           10000 non-null  int64  \n",
      "dtypes: float64(3), int64(8), object(3)\n",
      "memory usage: 1.1+ MB\n"
     ]
    },
    {
     "data": {
      "text/plain": [
       "None"
      ]
     },
     "metadata": {},
     "output_type": "display_data"
    }
   ],
   "source": [
    "data = read_df('/datasets/Churn.csv',0)"
   ]
  },
  {
   "cell_type": "code",
   "execution_count": 362,
   "metadata": {},
   "outputs": [],
   "source": [
    "data.loc[(data['Tenure'].isna()),'Tenure'] = data['Tenure'].median()\n",
    "    \n",
    "    \n",
    "data['HasCrCard'] = data['HasCrCard'].astype(bool)\n",
    "data['IsActiveMember'] = data['IsActiveMember'].astype(bool)\n",
    "data['Exited'] = data['Exited'].astype(bool)"
   ]
  },
  {
   "cell_type": "code",
   "execution_count": 363,
   "metadata": {},
   "outputs": [],
   "source": [
    "data_ohe = pd.get_dummies(data, columns=['Gender', 'HasCrCard', 'IsActiveMember','Exited'],drop_first=True)"
   ]
  },
  {
   "cell_type": "markdown",
   "metadata": {},
   "source": [
    "## Исследование задачи"
   ]
  },
  {
   "cell_type": "code",
   "execution_count": 364,
   "metadata": {},
   "outputs": [],
   "source": [
    "target = data_ohe['Exited_True']\n",
    "features = data_ohe.drop(['Exited_True', 'Surname', 'Geography','RowNumber','CustomerId'] , axis=1)\n",
    "\n",
    "features_train0, features_test, target_train0, target_test = train_test_split(features, target, test_size=0.2, random_state=12345) \n",
    "features_train, features_valid, target_train, target_valid = train_test_split(features_train0, target_train0, test_size=0.25, random_state=12345) "
   ]
  },
  {
   "cell_type": "code",
   "execution_count": 365,
   "metadata": {},
   "outputs": [
    {
     "name": "stdout",
     "output_type": "stream",
     "text": [
      "[0 1]\n"
     ]
    },
    {
     "data": {
      "text/plain": [
       "0    4781\n",
       "1    1219\n",
       "Name: Exited_True, dtype: int64"
      ]
     },
     "execution_count": 365,
     "metadata": {},
     "output_type": "execute_result"
    }
   ],
   "source": [
    "print(target_train.unique())\n",
    "target_train.value_counts()"
   ]
  },
  {
   "cell_type": "code",
   "execution_count": 366,
   "metadata": {},
   "outputs": [
    {
     "data": {
      "text/plain": [
       "array([0.62748379, 2.46103363])"
      ]
     },
     "execution_count": 366,
     "metadata": {},
     "output_type": "execute_result"
    }
   ],
   "source": [
    "compute_class_weight('balanced', classes=np.unique(target_train), y=target_train)"
   ]
  },
  {
   "cell_type": "code",
   "execution_count": 367,
   "metadata": {},
   "outputs": [],
   "source": [
    "numeric = ['CreditScore', 'Age', 'Tenure', 'Balance', 'NumOfProducts', 'EstimatedSalary']\n",
    "\n",
    "scaler = StandardScaler()\n",
    "scaler.fit(features_train[numeric]) \n",
    "features_train[numeric] = scaler.transform(features_train[numeric])\n",
    "features_valid[numeric] = scaler.transform(features_valid[numeric]) \n",
    "features_test[numeric] = scaler.transform(features_test[numeric]) \n",
    "pd.options.mode.chained_assignment = None"
   ]
  },
  {
   "cell_type": "code",
   "execution_count": 368,
   "metadata": {},
   "outputs": [
    {
     "data": {
      "text/plain": [
       "1    4876\n",
       "0    4781\n",
       "Name: Exited_True, dtype: int64"
      ]
     },
     "execution_count": 368,
     "metadata": {},
     "output_type": "execute_result"
    }
   ],
   "source": [
    "def upsample(features, target, repeat):\n",
    "    features_zeros = features[target == 0]\n",
    "    features_ones = features[target == 1]\n",
    "    target_zeros = target[target == 0]\n",
    "    target_ones = target[target == 1]\n",
    "\n",
    "    features_upsampled = pd.concat([features_zeros] + [features_ones] * repeat)    \n",
    "    target_upsampled = pd.concat([target_zeros] + [target_ones] * repeat)    \n",
    "    \n",
    "    features_upsampled, target_upsampled = shuffle(\n",
    "        features_upsampled, target_upsampled, random_state=12345)\n",
    "    \n",
    "    return features_upsampled, target_upsampled\n",
    "\n",
    "features_upsampled, target_upsampled = upsample(features_train, target_train, 4)\n",
    "\n",
    "target_upsampled.value_counts()"
   ]
  },
  {
   "cell_type": "code",
   "execution_count": 369,
   "metadata": {},
   "outputs": [
    {
     "data": {
      "text/plain": [
       "1    1219\n",
       "0    1195\n",
       "Name: Exited_True, dtype: int64"
      ]
     },
     "execution_count": 369,
     "metadata": {},
     "output_type": "execute_result"
    }
   ],
   "source": [
    "def downsample(features, target, fraction):\n",
    "    features_zeros = features[target == 0]\n",
    "    features_ones = features[target == 1]\n",
    "    target_zeros = target[target == 0]\n",
    "    target_ones = target[target == 1]\n",
    "\n",
    "    features_downsampled = pd.concat(\n",
    "        [features_zeros.sample(frac=fraction, random_state=12345)] + [features_ones])\n",
    "    target_downsampled = pd.concat(\n",
    "        [target_zeros.sample(frac=fraction, random_state=12345)] + [target_ones])\n",
    "    \n",
    "    features_downsampled, target_downsampled = shuffle(\n",
    "        features_downsampled, target_downsampled, random_state=12345)\n",
    "    \n",
    "    return features_downsampled, target_downsampled\n",
    "\n",
    "features_downsampled, target_downsampled = downsample(features_train, target_train, 0.25)\n",
    "target_downsampled.value_counts()"
   ]
  },
  {
   "cell_type": "code",
   "execution_count": 370,
   "metadata": {},
   "outputs": [],
   "source": [
    "def calc_metrics(Model, model, features_valid, target_valid, predicted_valid):\n",
    "    probabilities_valid = model.predict_proba(features_valid)\n",
    "    probabilities_one_valid = probabilities_valid[:, 1]\n",
    "    auc_roc = roc_auc_score(target_valid, probabilities_one_valid)\n",
    "    f1_sc = f1_score(target_valid, predicted_valid)\n",
    "\n",
    "    print(f'{Model} F1: {f1_sc:.0%}')\n",
    "    print(f'{Model} AUC_ROC: {auc_roc:.0%}')\n",
    "    \n",
    "    #print(\"As-is F1 :\", f1_score(target_valid, predicted_valid))\n",
    "    #print(\"As-is AUC_ROC :\", auc_roc)\n",
    "\n",
    "    fpr, tpr, thresholds = roc_curve(target_valid, probabilities_one_valid)  \n",
    "\n",
    "    plt.figure()\n",
    "\n",
    "    plt.plot(fpr, tpr)\n",
    "\n",
    "    plt.ylim([0.0, 1.0])\n",
    "    plt.xlim([0.0, 1.0])\n",
    "\n",
    "    plt.xlabel('False Positive Rate')\n",
    "    plt.ylabel('True Positive Rate')\n",
    "\n",
    "    plt.title('ROC-кривая')\n",
    "\n",
    "    plt.plot([0, 1], [0, 1], linestyle='--')\n",
    "\n",
    "    plt.show()\n",
    "    return f1_sc, auc_roc"
   ]
  },
  {
   "cell_type": "markdown",
   "metadata": {},
   "source": [
    "Logistic Regression"
   ]
  },
  {
   "cell_type": "code",
   "execution_count": 371,
   "metadata": {},
   "outputs": [
    {
     "name": "stdout",
     "output_type": "stream",
     "text": [
      "LR, As-is F1: 28%\n",
      "LR, As-is AUC_ROC: 76%\n"
     ]
    },
    {
     "data": {
      "image/png": "[encoded data removed]",
      "text/plain": [
       "<Figure size 432x288 with 1 Axes>"
      ]
     },
     "metadata": {
      "needs_background": "light"
     },
     "output_type": "display_data"
    }
   ],
   "source": [
    "model = LogisticRegression(random_state=12345, solver='liblinear')\n",
    "model.fit(features_train, target_train)\n",
    "predicted_valid = model.predict(features_valid)\n",
    "\n",
    "f1_LR_ai, ar_LR_ai = calc_metrics(\"LR, As-is\", model, features_valid, target_valid, predicted_valid)"
   ]
  },
  {
   "cell_type": "markdown",
   "metadata": {},
   "source": [
    "Desicion Tree"
   ]
  },
  {
   "cell_type": "code",
   "execution_count": 373,
   "metadata": {},
   "outputs": [
    {
     "name": "stdout",
     "output_type": "stream",
     "text": [
      "Depth лучшей модели: 5\n",
      "DT, As-is F1: 52%\n",
      "DT, As-is AUC_ROC: 82%\n"
     ]
    },
    {
     "data": {
      "image/png": "[encoded data removed]",
      "text/plain": [
       "<Figure size 432x288 with 1 Axes>"
      ]
     },
     "metadata": {
      "needs_background": "light"
     },
     "output_type": "display_data"
    }
   ],
   "source": [
    "best_model = None\n",
    "best_result = 0\n",
    "dt_best_depth = 0\n",
    "for depth in range(1, 6):\n",
    "    model = DecisionTreeClassifier(random_state=12345, max_depth=depth) \n",
    "\n",
    "    model.fit(features_train, target_train) \n",
    "    predicted_valid = model.predict(features_valid)\n",
    "   \n",
    "    f1_res = f1_score(target_valid, predicted_valid)\n",
    "    if f1_res > best_result:\n",
    "        best_model = model\n",
    "        best_result = f1_res\n",
    "        dt_best_depth = depth\n",
    "\n",
    "predicted_valid = best_model.predict(features_valid)\n",
    "print(\"Depth лучшей модели:\", dt_best_depth)\n",
    "\n",
    "f1_DT_ai, ar_DT_ai = calc_metrics(\"DT, As-is\", best_model, features_valid, target_valid, predicted_valid)"
   ]
  },
  {
   "cell_type": "markdown",
   "metadata": {},
   "source": [
    "Random Forest"
   ]
  },
  {
   "cell_type": "code",
   "execution_count": 374,
   "metadata": {},
   "outputs": [
    {
     "name": "stdout",
     "output_type": "stream",
     "text": [
      "Количество деревьев: 10 Максимальная глубина: 10\n",
      "RF, As-is F1: 53%\n",
      "RF, As-is AUC_ROC: 83%\n"
     ]
    },
    {
     "data": {
      "image/png": "[encoded data removed]",
      "text/plain": [
       "<Figure size 432x288 with 1 Axes>"
      ]
     },
     "metadata": {
      "needs_background": "light"
     },
     "output_type": "display_data"
    }
   ],
   "source": [
    "best_model = None\n",
    "best_result = 0\n",
    "rf_best_est = 0\n",
    "rf_best_depth = 0\n",
    "for est in range(10, 51, 10):\n",
    "    for depth in range (1, 11):\n",
    "        model = RandomForestClassifier(random_state=12345, n_estimators=est, max_depth=depth) \n",
    "        model.fit(features_train, target_train) \n",
    "        predicted_valid = model.predict(features_valid) \n",
    "        f1_res = f1_score(target_valid, predicted_valid)\n",
    "        if f1_res > best_result:\n",
    "            best_model = model\n",
    "            best_result = f1_res\n",
    "            rf_best_est = est\n",
    "            rf_best_depth = depth\n",
    "\n",
    "predicted_valid = best_model.predict(features_valid)\n",
    "print(\"Количество деревьев:\", rf_best_est, \"Максимальная глубина:\", rf_best_depth)\n",
    "\n",
    "f1_RF_ai, ar_RF_ai = calc_metrics(\"RF, As-is\", best_model, features_valid, target_valid, predicted_valid)"
   ]
  },
  {
   "cell_type": "code",
   "execution_count": 375,
   "metadata": {},
   "outputs": [
    {
     "data": {
      "text/html": [
       "<div>\n",
       "<style scoped>\n",
       "    .dataframe tbody tr th:only-of-type {\n",
       "        vertical-align: middle;\n",
       "    }\n",
       "\n",
       "    .dataframe tbody tr th {\n",
       "        vertical-align: top;\n",
       "    }\n",
       "\n",
       "    .dataframe thead th {\n",
       "        text-align: right;\n",
       "    }\n",
       "</style>\n",
       "<table border=\"1\" class=\"dataframe\">\n",
       "  <thead>\n",
       "    <tr style=\"text-align: right;\">\n",
       "      <th></th>\n",
       "      <th>As-is</th>\n",
       "    </tr>\n",
       "  </thead>\n",
       "  <tbody>\n",
       "    <tr>\n",
       "      <th>LR: F1</th>\n",
       "      <td>0.278530</td>\n",
       "    </tr>\n",
       "    <tr>\n",
       "      <th>LR: AUC_ROC</th>\n",
       "      <td>0.759195</td>\n",
       "    </tr>\n",
       "    <tr>\n",
       "      <th>DT: F1</th>\n",
       "      <td>0.516667</td>\n",
       "    </tr>\n",
       "    <tr>\n",
       "      <th>DT: AUC_ROC</th>\n",
       "      <td>0.820716</td>\n",
       "    </tr>\n",
       "    <tr>\n",
       "      <th>RF: F1</th>\n",
       "      <td>0.527869</td>\n",
       "    </tr>\n",
       "    <tr>\n",
       "      <th>RF: AUC_ROC</th>\n",
       "      <td>0.827460</td>\n",
       "    </tr>\n",
       "  </tbody>\n",
       "</table>\n",
       "</div>"
      ],
      "text/plain": [
       "                As-is\n",
       "LR: F1       0.278530\n",
       "LR: AUC_ROC  0.759195\n",
       "DT: F1       0.516667\n",
       "DT: AUC_ROC  0.820716\n",
       "RF: F1       0.527869\n",
       "RF: AUC_ROC  0.827460"
      ]
     },
     "execution_count": 375,
     "metadata": {},
     "output_type": "execute_result"
    }
   ],
   "source": [
    "data = {'As-is': [f1_LR_ai, ar_LR_ai, f1_DT_ai, ar_DT_ai, f1_RF_ai, ar_RF_ai]}  \n",
    "results = pd.DataFrame(data, index=['LR: F1', 'LR: AUC_ROC','DT: F1', 'DT: AUC_ROC','RF: F1', 'RF: AUC_ROC']) \n",
    "\n",
    "results"
   ]
  },
  {
   "cell_type": "markdown",
   "metadata": {},
   "source": [
    "## Борьба с дисбалансом"
   ]
  },
  {
   "cell_type": "markdown",
   "metadata": {},
   "source": [
    "Balanced"
   ]
  },
  {
   "cell_type": "code",
   "execution_count": 376,
   "metadata": {},
   "outputs": [
    {
     "name": "stdout",
     "output_type": "stream",
     "text": [
      "LR, Balanced F1: 47%\n",
      "LR, Balanced AUC_ROC: 76%\n"
     ]
    },
    {
     "data": {
      "image/png": "[encoded data removed]",
      "text/plain": [
       "<Figure size 432x288 with 1 Axes>"
      ]
     },
     "metadata": {
      "needs_background": "light"
     },
     "output_type": "display_data"
    }
   ],
   "source": [
    "#Logistic Regression\n",
    "model_w = LogisticRegression(random_state=12345, solver='liblinear',class_weight='balanced')\n",
    "model_w.fit(features_train, target_train)\n",
    "predicted_valid_w = model_w.predict(features_valid)\n",
    "f1_LRb_ai, ar_LRb_ai = calc_metrics(\"LR, Balanced\", model_w, features_valid, target_valid, predicted_valid_w)"
   ]
  },
  {
   "cell_type": "code",
   "execution_count": 377,
   "metadata": {},
   "outputs": [
    {
     "name": "stdout",
     "output_type": "stream",
     "text": [
      "Depth лучшей модели: 5\n",
      "DT, Balanced F1: 54%\n",
      "DT, Balanced AUC_ROC: 81%\n"
     ]
    },
    {
     "data": {
      "image/png": "[encoded data removed]",
      "text/plain": [
       "<Figure size 432x288 with 1 Axes>"
      ]
     },
     "metadata": {
      "needs_background": "light"
     },
     "output_type": "display_data"
    }
   ],
   "source": [
    "#Decision Tree\n",
    "best_model = None\n",
    "best_result = 0\n",
    "dtb_best_depth = 0\n",
    "for depth in range(1, 6):\n",
    "    model = DecisionTreeClassifier(random_state=12345, max_depth=depth,class_weight='balanced') \n",
    "\n",
    "    model.fit(features_train, target_train) \n",
    "    predicted_valid = model.predict(features_valid) \n",
    "    \n",
    "    f1_res = f1_score(target_valid, predicted_valid)\n",
    "    if f1_res > best_result:\n",
    "        best_model = model\n",
    "        best_result = f1_res\n",
    "        dtb_best_depth = depth\n",
    "\n",
    "predicted_valid = best_model.predict(features_valid)\n",
    "print(\"Depth лучшей модели:\", dtb_best_depth)\n",
    "\n",
    "f1_DTb_ai, ar_DTb_ai = calc_metrics(\"DT, Balanced\", best_model, features_valid, target_valid, predicted_valid)"
   ]
  },
  {
   "cell_type": "code",
   "execution_count": 378,
   "metadata": {},
   "outputs": [
    {
     "name": "stdout",
     "output_type": "stream",
     "text": [
      "Количество деревьев: 50 Максимальная глубина: 9\n",
      "RF, Balanced F1: 57%\n",
      "RF, Balanced AUC_ROC: 84%\n"
     ]
    },
    {
     "data": {
      "image/png": "[encoded data removed]",
      "text/plain": [
       "<Figure size 432x288 with 1 Axes>"
      ]
     },
     "metadata": {
      "needs_background": "light"
     },
     "output_type": "display_data"
    }
   ],
   "source": [
    "#RF\n",
    "best_model = None\n",
    "best_result = 0\n",
    "rfb_best_est = 0\n",
    "rfb_best_depth = 0\n",
    "for est in range(10, 51, 20):\n",
    "    for depth in range (1, 11):\n",
    "        model = RandomForestClassifier(random_state=12345, n_estimators=est, max_depth=depth,class_weight='balanced') \n",
    "        model.fit(features_train, target_train) \n",
    "        predicted_valid = model.predict(features_valid) \n",
    "        f1_res = f1_score(target_valid, predicted_valid)\n",
    "        if f1_res > best_result:\n",
    "            best_model = model\n",
    "            best_result = f1_res\n",
    "            rfb_best_est = est\n",
    "            rfb_best_depth = depth\n",
    "\n",
    "predicted_valid = best_model.predict(features_valid)\n",
    "print(\"Количество деревьев:\", rfb_best_est, \"Максимальная глубина:\", rfb_best_depth)\n",
    "\n",
    "f1_RFb_ai, ar_RFb_ai = calc_metrics(\"RF, Balanced\", best_model, features_valid, target_valid, predicted_valid)"
   ]
  },
  {
   "cell_type": "code",
   "execution_count": 379,
   "metadata": {},
   "outputs": [],
   "source": [
    "data = {'Balanced': [f1_LRb_ai, ar_LRb_ai, f1_DTb_ai, ar_DTb_ai, f1_RFb_ai, ar_RFb_ai]}  \n",
    "resultsb = pd.DataFrame(data, index=['LR: F1', 'LR: AUC_ROC','DT: F1', 'DT: AUC_ROC','RF: F1', 'RF: AUC_ROC']) \n",
    "results = results.join(resultsb)"
   ]
  },
  {
   "cell_type": "markdown",
   "metadata": {},
   "source": [
    "Upsample"
   ]
  },
  {
   "cell_type": "code",
   "execution_count": 380,
   "metadata": {},
   "outputs": [
    {
     "name": "stdout",
     "output_type": "stream",
     "text": [
      "LR, Up F1: 46%\n",
      "LR, Up AUC_ROC: 76%\n"
     ]
    },
    {
     "data": {
      "image/png": "[encoded data removed]",
      "text/plain": [
       "<Figure size 432x288 with 1 Axes>"
      ]
     },
     "metadata": {
      "needs_background": "light"
     },
     "output_type": "display_data"
    }
   ],
   "source": [
    "#LR\n",
    "model = LogisticRegression(random_state=12345, solver='liblinear')\n",
    "model.fit(features_upsampled, target_upsampled)\n",
    "predicted_valid = model.predict(features_valid)\n",
    "\n",
    "f1_LRu_ai, ar_LRu_ai = calc_metrics(\"LR, Up\", model, features_valid, target_valid, predicted_valid)"
   ]
  },
  {
   "cell_type": "code",
   "execution_count": 381,
   "metadata": {},
   "outputs": [
    {
     "name": "stdout",
     "output_type": "stream",
     "text": [
      "DT, Up F1: 54%\n",
      "DT, Up AUC_ROC: 81%\n"
     ]
    },
    {
     "data": {
      "image/png": "[encoded data removed]",
      "text/plain": [
       "<Figure size 432x288 with 1 Axes>"
      ]
     },
     "metadata": {
      "needs_background": "light"
     },
     "output_type": "display_data"
    }
   ],
   "source": [
    "#DT\n",
    "model = DecisionTreeClassifier(random_state=12345, max_depth=dt_best_depth)\n",
    "model.fit(features_upsampled, target_upsampled)\n",
    "predicted_valid = model.predict(features_valid)\n",
    "\n",
    "f1_DTu_ai, ar_DTu_ai = calc_metrics(\"DT, Up\", model, features_valid, target_valid, predicted_valid)"
   ]
  },
  {
   "cell_type": "code",
   "execution_count": 382,
   "metadata": {},
   "outputs": [
    {
     "name": "stdout",
     "output_type": "stream",
     "text": [
      "RF, Up F1: 55%\n",
      "RF, Up AUC_ROC: 83%\n"
     ]
    },
    {
     "data": {
      "image/png": "[encoded data removed]",
      "text/plain": [
       "<Figure size 432x288 with 1 Axes>"
      ]
     },
     "metadata": {
      "needs_background": "light"
     },
     "output_type": "display_data"
    }
   ],
   "source": [
    "#RF\n",
    "model = RandomForestClassifier(random_state=12345, n_estimators=rf_best_est, max_depth=rf_best_depth,)\n",
    "model.fit(features_upsampled, target_upsampled)\n",
    "predicted_valid = model.predict(features_valid)\n",
    "\n",
    "f1_RFu_ai, ar_RFu_ai = calc_metrics(\"RF, Up\", model, features_valid, target_valid, predicted_valid)"
   ]
  },
  {
   "cell_type": "code",
   "execution_count": 383,
   "metadata": {},
   "outputs": [],
   "source": [
    "data = {'Upsampled': [f1_LRu_ai, ar_LRu_ai, f1_DTu_ai, ar_DTu_ai, f1_RFu_ai, ar_RFu_ai]}  \n",
    "resultsu = pd.DataFrame(data, index=['LR: F1', 'LR: AUC_ROC','DT: F1', 'DT: AUC_ROC','RF: F1', 'RF: AUC_ROC']) \n",
    "results = results.join(resultsu)"
   ]
  },
  {
   "cell_type": "markdown",
   "metadata": {},
   "source": [
    "Downsample"
   ]
  },
  {
   "cell_type": "code",
   "execution_count": 384,
   "metadata": {},
   "outputs": [
    {
     "name": "stdout",
     "output_type": "stream",
     "text": [
      "LR, Down F1: 47%\n",
      "LR, Down AUC_ROC: 76%\n"
     ]
    },
    {
     "data": {
      "image/png": "[encoded data removed]",
      "text/plain": [
       "<Figure size 432x288 with 1 Axes>"
      ]
     },
     "metadata": {
      "needs_background": "light"
     },
     "output_type": "display_data"
    }
   ],
   "source": [
    "#LR\n",
    "model = LogisticRegression(random_state=12345, solver='liblinear')\n",
    "model.fit(features_downsampled, target_downsampled)\n",
    "predicted_valid = model.predict(features_valid)\n",
    "\n",
    "f1_LRd_ai, ar_LRd_ai = calc_metrics(\"LR, Down\", model, features_valid, target_valid, predicted_valid)"
   ]
  },
  {
   "cell_type": "code",
   "execution_count": 385,
   "metadata": {},
   "outputs": [
    {
     "name": "stdout",
     "output_type": "stream",
     "text": [
      "DT, Down F1: 53%\n",
      "DT, Down AUC_ROC: 80%\n"
     ]
    },
    {
     "data": {
      "image/png": "[encoded data removed]",
      "text/plain": [
       "<Figure size 432x288 with 1 Axes>"
      ]
     },
     "metadata": {
      "needs_background": "light"
     },
     "output_type": "display_data"
    }
   ],
   "source": [
    "#DT\n",
    "model = DecisionTreeClassifier(random_state=12345, max_depth=best_depth)\n",
    "model.fit(features_downsampled, target_downsampled)\n",
    "predicted_valid = model.predict(features_valid)\n",
    "\n",
    "f1_DTd_ai, ar_DTd_ai = calc_metrics(\"DT, Down\", model, features_valid, target_valid, predicted_valid)"
   ]
  },
  {
   "cell_type": "code",
   "execution_count": 386,
   "metadata": {},
   "outputs": [
    {
     "name": "stdout",
     "output_type": "stream",
     "text": [
      "RF, Down F1: 53%\n",
      "RF, Down AUC_ROC: 83%\n"
     ]
    },
    {
     "data": {
      "image/png": "[encoded data removed]",
      "text/plain": [
       "<Figure size 432x288 with 1 Axes>"
      ]
     },
     "metadata": {
      "needs_background": "light"
     },
     "output_type": "display_data"
    }
   ],
   "source": [
    "#RF\n",
    "model = RandomForestClassifier(random_state=12345, n_estimators=best_est, max_depth=best_depth,)\n",
    "model.fit(features_downsampled, target_downsampled)\n",
    "predicted_valid = model.predict(features_valid)\n",
    "\n",
    "f1_RFd_ai, ar_RFd_ai = calc_metrics(\"RF, Down\", model, features_valid, target_valid, predicted_valid)"
   ]
  },
  {
   "cell_type": "code",
   "execution_count": 387,
   "metadata": {},
   "outputs": [],
   "source": [
    "data = {'Downsampled': [f1_LRd_ai, ar_LRd_ai, f1_DTd_ai, ar_DTd_ai, f1_RFd_ai, ar_RFd_ai]}  \n",
    "resultsd = pd.DataFrame(data, index=['LR: F1', 'LR: AUC_ROC','DT: F1', 'DT: AUC_ROC','RF: F1', 'RF: AUC_ROC']) \n",
    "results = results.join(resultsd)"
   ]
  },
  {
   "cell_type": "code",
   "execution_count": 388,
   "metadata": {},
   "outputs": [
    {
     "data": {
      "text/html": [
       "<div>\n",
       "<style scoped>\n",
       "    .dataframe tbody tr th:only-of-type {\n",
       "        vertical-align: middle;\n",
       "    }\n",
       "\n",
       "    .dataframe tbody tr th {\n",
       "        vertical-align: top;\n",
       "    }\n",
       "\n",
       "    .dataframe thead th {\n",
       "        text-align: right;\n",
       "    }\n",
       "</style>\n",
       "<table border=\"1\" class=\"dataframe\">\n",
       "  <thead>\n",
       "    <tr style=\"text-align: right;\">\n",
       "      <th></th>\n",
       "      <th>As-is</th>\n",
       "      <th>Balanced</th>\n",
       "      <th>Upsampled</th>\n",
       "      <th>Downsampled</th>\n",
       "    </tr>\n",
       "  </thead>\n",
       "  <tbody>\n",
       "    <tr>\n",
       "      <th>LR: F1</th>\n",
       "      <td>0.278530</td>\n",
       "      <td>0.466667</td>\n",
       "      <td>0.464874</td>\n",
       "      <td>0.468966</td>\n",
       "    </tr>\n",
       "    <tr>\n",
       "      <th>LR: AUC_ROC</th>\n",
       "      <td>0.759195</td>\n",
       "      <td>0.762949</td>\n",
       "      <td>0.763016</td>\n",
       "      <td>0.764601</td>\n",
       "    </tr>\n",
       "    <tr>\n",
       "      <th>DT: F1</th>\n",
       "      <td>0.516667</td>\n",
       "      <td>0.542510</td>\n",
       "      <td>0.542510</td>\n",
       "      <td>0.526912</td>\n",
       "    </tr>\n",
       "    <tr>\n",
       "      <th>DT: AUC_ROC</th>\n",
       "      <td>0.820716</td>\n",
       "      <td>0.811401</td>\n",
       "      <td>0.811401</td>\n",
       "      <td>0.804454</td>\n",
       "    </tr>\n",
       "    <tr>\n",
       "      <th>RF: F1</th>\n",
       "      <td>0.527869</td>\n",
       "      <td>0.572827</td>\n",
       "      <td>0.553812</td>\n",
       "      <td>0.533333</td>\n",
       "    </tr>\n",
       "    <tr>\n",
       "      <th>RF: AUC_ROC</th>\n",
       "      <td>0.827460</td>\n",
       "      <td>0.837371</td>\n",
       "      <td>0.827546</td>\n",
       "      <td>0.825345</td>\n",
       "    </tr>\n",
       "  </tbody>\n",
       "</table>\n",
       "</div>"
      ],
      "text/plain": [
       "                As-is  Balanced  Upsampled  Downsampled\n",
       "LR: F1       0.278530  0.466667   0.464874     0.468966\n",
       "LR: AUC_ROC  0.759195  0.762949   0.763016     0.764601\n",
       "DT: F1       0.516667  0.542510   0.542510     0.526912\n",
       "DT: AUC_ROC  0.820716  0.811401   0.811401     0.804454\n",
       "RF: F1       0.527869  0.572827   0.553812     0.533333\n",
       "RF: AUC_ROC  0.827460  0.837371   0.827546     0.825345"
      ]
     },
     "execution_count": 388,
     "metadata": {},
     "output_type": "execute_result"
    }
   ],
   "source": [
    "results"
   ]
  },
  {
   "cell_type": "markdown",
   "metadata": {},
   "source": [
    "## Тестирование модели"
   ]
  },
  {
   "cell_type": "code",
   "execution_count": 391,
   "metadata": {},
   "outputs": [
    {
     "name": "stdout",
     "output_type": "stream",
     "text": [
      "RF, Balanced F1: 60%\n",
      "RF, Balanced AUC_ROC: 85%\n"
     ]
    },
    {
     "data": {
      "image/png": "[encoded data removed]",
      "text/plain": [
       "<Figure size 432x288 with 1 Axes>"
      ]
     },
     "metadata": {
      "needs_background": "light"
     },
     "output_type": "display_data"
    }
   ],
   "source": [
    "#model = DecisionTreeClassifier(random_state=12345, max_depth=4,class_weight='balanced') \n",
    "model = RandomForestClassifier(random_state=12345, n_estimators=rfb_best_est, max_depth=rfb_best_depth,class_weight='balanced') \n",
    "model.fit(features_train, target_train)\n",
    "predicted_test = model.predict(features_test) \n",
    "\n",
    "f1_test, ar_test = calc_metrics(\"RF, Balanced\", model, features_test, target_test, predicted_test)"
   ]
  },
  {
   "cell_type": "code",
   "execution_count": 392,
   "metadata": {},
   "outputs": [
    {
     "data": {
      "image/png": "[encoded data removed]",
      "text/plain": [
       "<Figure size 576x432 with 1 Axes>"
      ]
     },
     "metadata": {
      "needs_background": "light"
     },
     "output_type": "display_data"
    }
   ],
   "source": [
    "imp = pd.Series(model.feature_importances_, index=features.columns)\n",
    "\n",
    "fig, ax = plt.subplots(figsize=(8,6))\n",
    "imp.plot.bar(ax=ax)\n",
    "ax.set_title(\"Важность признаков\")\n",
    "ax.set_ylabel('Важность')\n",
    "fig.tight_layout()"
   ]
  }
 ],
 "metadata": {
  "ExecuteTimeLog": [
   {
    "duration": 1789,
    "start_time": "2023-10-29T16:19:11.412Z"
   },
   {
    "duration": 6,
    "start_time": "2023-10-29T16:19:16.128Z"
   },
   {
    "duration": 22140,
    "start_time": "2023-10-29T16:19:19.971Z"
   },
   {
    "duration": 1298,
    "start_time": "2023-10-29T16:22:56.855Z"
   },
   {
    "duration": 4,
    "start_time": "2023-10-29T16:23:12.684Z"
   },
   {
    "duration": 20676,
    "start_time": "2023-10-29T16:36:20.690Z"
   },
   {
    "duration": 7,
    "start_time": "2023-10-29T16:36:41.368Z"
   },
   {
    "duration": 8,
    "start_time": "2023-10-29T16:36:51.414Z"
   },
   {
    "duration": 14,
    "start_time": "2023-10-29T16:37:17.694Z"
   },
   {
    "duration": 4,
    "start_time": "2023-10-29T16:42:25.416Z"
   },
   {
    "duration": 5,
    "start_time": "2023-10-29T16:42:43.379Z"
   },
   {
    "duration": 20747,
    "start_time": "2023-10-29T16:43:35.029Z"
   },
   {
    "duration": 8,
    "start_time": "2023-10-29T16:44:00.850Z"
   },
   {
    "duration": 199,
    "start_time": "2023-10-29T16:44:03.859Z"
   },
   {
    "duration": 9,
    "start_time": "2023-10-29T16:44:05.669Z"
   },
   {
    "duration": 59,
    "start_time": "2023-10-29T16:44:40.941Z"
   },
   {
    "duration": 8,
    "start_time": "2023-10-29T16:44:44.159Z"
   },
   {
    "duration": 9,
    "start_time": "2023-10-29T16:44:55.277Z"
   },
   {
    "duration": 283,
    "start_time": "2023-10-29T16:45:07.249Z"
   },
   {
    "duration": 12,
    "start_time": "2023-10-29T16:45:09.010Z"
   },
   {
    "duration": 17,
    "start_time": "2023-10-29T16:45:56.210Z"
   },
   {
    "duration": 11,
    "start_time": "2023-10-29T16:45:59.840Z"
   },
   {
    "duration": 9,
    "start_time": "2023-10-29T16:46:02.279Z"
   },
   {
    "duration": 102,
    "start_time": "2023-10-29T16:46:39.090Z"
   },
   {
    "duration": 5,
    "start_time": "2023-10-29T16:46:43.409Z"
   },
   {
    "duration": 8,
    "start_time": "2023-10-29T16:53:44.869Z"
   },
   {
    "duration": 18,
    "start_time": "2023-10-29T16:55:37.505Z"
   },
   {
    "duration": 4,
    "start_time": "2023-10-29T16:55:55.763Z"
   },
   {
    "duration": 34,
    "start_time": "2023-10-29T16:55:59.969Z"
   },
   {
    "duration": 32,
    "start_time": "2023-10-29T16:56:49.229Z"
   },
   {
    "duration": 9,
    "start_time": "2023-10-29T16:57:10.620Z"
   },
   {
    "duration": 53,
    "start_time": "2023-10-29T16:57:29.230Z"
   },
   {
    "duration": 7,
    "start_time": "2023-10-29T16:57:31.169Z"
   },
   {
    "duration": 9,
    "start_time": "2023-10-29T16:57:34.324Z"
   },
   {
    "duration": 37,
    "start_time": "2023-10-29T16:57:38.519Z"
   },
   {
    "duration": 9,
    "start_time": "2023-10-29T16:57:41.294Z"
   },
   {
    "duration": 14,
    "start_time": "2023-10-29T16:58:34.889Z"
   },
   {
    "duration": 22,
    "start_time": "2023-10-29T17:02:48.004Z"
   },
   {
    "duration": 4,
    "start_time": "2023-10-29T17:03:21.855Z"
   },
   {
    "duration": 22,
    "start_time": "2023-10-29T17:03:30.844Z"
   },
   {
    "duration": 48,
    "start_time": "2023-10-29T17:04:45.314Z"
   },
   {
    "duration": 7,
    "start_time": "2023-10-29T17:04:47.664Z"
   },
   {
    "duration": 11,
    "start_time": "2023-10-29T17:04:49.648Z"
   },
   {
    "duration": 13,
    "start_time": "2023-10-29T17:04:52.834Z"
   },
   {
    "duration": 9,
    "start_time": "2023-10-29T17:04:56.340Z"
   },
   {
    "duration": 8,
    "start_time": "2023-10-29T17:04:58.354Z"
   },
   {
    "duration": 8,
    "start_time": "2023-10-29T17:05:12.278Z"
   },
   {
    "duration": 8,
    "start_time": "2023-10-29T17:05:15.074Z"
   },
   {
    "duration": 6,
    "start_time": "2023-10-29T17:05:31.730Z"
   },
   {
    "duration": 9,
    "start_time": "2023-10-29T17:05:33.729Z"
   },
   {
    "duration": 8,
    "start_time": "2023-10-29T17:05:35.629Z"
   },
   {
    "duration": 4,
    "start_time": "2023-10-29T17:06:17.110Z"
   },
   {
    "duration": 5,
    "start_time": "2023-10-29T17:06:19.210Z"
   },
   {
    "duration": 50,
    "start_time": "2023-10-29T17:06:20.849Z"
   },
   {
    "duration": 7,
    "start_time": "2023-10-29T17:06:23.354Z"
   },
   {
    "duration": 9,
    "start_time": "2023-10-29T17:06:24.994Z"
   },
   {
    "duration": 14,
    "start_time": "2023-10-29T17:06:26.634Z"
   },
   {
    "duration": 8,
    "start_time": "2023-10-29T17:06:29.513Z"
   },
   {
    "duration": 8,
    "start_time": "2023-10-29T17:06:31.333Z"
   },
   {
    "duration": 29,
    "start_time": "2023-10-29T17:06:50.089Z"
   },
   {
    "duration": 10,
    "start_time": "2023-10-29T17:06:53.234Z"
   },
   {
    "duration": 50,
    "start_time": "2023-10-29T17:07:38.724Z"
   },
   {
    "duration": 7,
    "start_time": "2023-10-29T17:07:41.475Z"
   },
   {
    "duration": 9,
    "start_time": "2023-10-29T17:07:42.909Z"
   },
   {
    "duration": 14,
    "start_time": "2023-10-29T17:07:45.104Z"
   },
   {
    "duration": 38,
    "start_time": "2023-10-29T17:08:04.524Z"
   },
   {
    "duration": 8,
    "start_time": "2023-10-29T17:08:08.047Z"
   },
   {
    "duration": 14,
    "start_time": "2023-10-29T17:08:58.523Z"
   },
   {
    "duration": 7,
    "start_time": "2023-10-29T17:09:01.767Z"
   },
   {
    "duration": 15,
    "start_time": "2023-10-29T17:09:03.935Z"
   },
   {
    "duration": 49,
    "start_time": "2023-10-29T17:09:20.155Z"
   },
   {
    "duration": 8,
    "start_time": "2023-10-29T17:09:22.415Z"
   },
   {
    "duration": 14,
    "start_time": "2023-10-29T17:09:24.383Z"
   },
   {
    "duration": 47,
    "start_time": "2023-10-29T17:09:28.416Z"
   },
   {
    "duration": 9,
    "start_time": "2023-10-29T17:09:30.615Z"
   },
   {
    "duration": 9,
    "start_time": "2023-10-29T17:09:43.483Z"
   },
   {
    "duration": 14,
    "start_time": "2023-10-29T17:10:18.788Z"
   },
   {
    "duration": 17,
    "start_time": "2023-10-29T17:10:21.933Z"
   },
   {
    "duration": 8,
    "start_time": "2023-10-29T17:10:36.568Z"
   },
   {
    "duration": 11,
    "start_time": "2023-10-29T17:10:53.739Z"
   },
   {
    "duration": 9,
    "start_time": "2023-10-29T17:10:55.471Z"
   },
   {
    "duration": 1629,
    "start_time": "2023-10-29T17:10:58.579Z"
   },
   {
    "duration": 31,
    "start_time": "2023-10-29T17:11:23.354Z"
   },
   {
    "duration": 10,
    "start_time": "2023-10-29T17:11:36.587Z"
   },
   {
    "duration": 154,
    "start_time": "2023-10-29T17:11:44.853Z"
   },
   {
    "duration": 21,
    "start_time": "2023-10-29T17:22:59.229Z"
   },
   {
    "duration": 4,
    "start_time": "2023-10-29T17:23:53.554Z"
   },
   {
    "duration": 55,
    "start_time": "2023-10-29T17:23:58.483Z"
   },
   {
    "duration": 29,
    "start_time": "2023-10-29T17:24:20.818Z"
   },
   {
    "duration": 8,
    "start_time": "2023-10-29T17:25:19.042Z"
   },
   {
    "duration": 19,
    "start_time": "2023-10-29T17:25:40.628Z"
   },
   {
    "duration": 4,
    "start_time": "2023-10-29T17:25:54.398Z"
   },
   {
    "duration": 4,
    "start_time": "2023-10-29T17:25:55.869Z"
   },
   {
    "duration": 5,
    "start_time": "2023-10-29T17:26:01.643Z"
   },
   {
    "duration": 289,
    "start_time": "2023-10-29T17:26:05.919Z"
   },
   {
    "duration": 16,
    "start_time": "2023-10-29T17:26:45.491Z"
   },
   {
    "duration": 5,
    "start_time": "2023-10-29T17:26:57.638Z"
   },
   {
    "duration": 12,
    "start_time": "2023-10-29T17:27:01.868Z"
   },
   {
    "duration": 23,
    "start_time": "2023-10-29T17:29:52.387Z"
   },
   {
    "duration": 4,
    "start_time": "2023-10-29T17:30:06.833Z"
   },
   {
    "duration": 280,
    "start_time": "2023-10-29T17:30:12.073Z"
   },
   {
    "duration": 12,
    "start_time": "2023-10-29T17:32:54.730Z"
   },
   {
    "duration": 266,
    "start_time": "2023-10-29T17:32:59.873Z"
   },
   {
    "duration": 7,
    "start_time": "2023-10-29T17:33:20.558Z"
   },
   {
    "duration": 30,
    "start_time": "2023-10-29T17:47:22.996Z"
   },
   {
    "duration": 28,
    "start_time": "2023-10-29T17:47:25.131Z"
   },
   {
    "duration": 8,
    "start_time": "2023-10-29T17:47:33.011Z"
   },
   {
    "duration": 150,
    "start_time": "2023-10-29T17:47:40.363Z"
   },
   {
    "duration": 85,
    "start_time": "2023-10-29T17:52:40.941Z"
   },
   {
    "duration": 76,
    "start_time": "2023-10-29T17:55:44.067Z"
   },
   {
    "duration": 86,
    "start_time": "2023-10-29T17:56:44.476Z"
   },
   {
    "duration": 64,
    "start_time": "2023-10-29T17:57:41.936Z"
   },
   {
    "duration": 20,
    "start_time": "2023-10-29T17:58:00.612Z"
   },
   {
    "duration": 77,
    "start_time": "2023-10-29T17:58:37.186Z"
   },
   {
    "duration": 19,
    "start_time": "2023-10-29T17:59:08.031Z"
   },
   {
    "duration": 40,
    "start_time": "2023-10-29T17:59:18.475Z"
   },
   {
    "duration": 84,
    "start_time": "2023-10-29T17:59:58.856Z"
   },
   {
    "duration": 47,
    "start_time": "2023-10-29T18:00:06.226Z"
   },
   {
    "duration": 22,
    "start_time": "2023-10-29T18:01:14.745Z"
   },
   {
    "duration": 8,
    "start_time": "2023-10-29T18:01:41.230Z"
   },
   {
    "duration": 123,
    "start_time": "2023-10-29T18:02:02.711Z"
   },
   {
    "duration": 127,
    "start_time": "2023-10-29T18:02:06.801Z"
   },
   {
    "duration": 2459,
    "start_time": "2023-10-30T13:47:35.879Z"
   },
   {
    "duration": 5,
    "start_time": "2023-10-30T13:47:40.829Z"
   },
   {
    "duration": 176,
    "start_time": "2023-10-30T13:47:43.393Z"
   },
   {
    "duration": 8,
    "start_time": "2023-10-30T13:47:46.167Z"
   },
   {
    "duration": 10,
    "start_time": "2023-10-30T13:47:50.112Z"
   },
   {
    "duration": 12,
    "start_time": "2023-10-30T13:47:53.670Z"
   },
   {
    "duration": 8,
    "start_time": "2023-10-30T13:47:57.435Z"
   },
   {
    "duration": 8,
    "start_time": "2023-10-30T13:51:17.760Z"
   },
   {
    "duration": 7,
    "start_time": "2023-10-30T13:51:43.927Z"
   },
   {
    "duration": 5,
    "start_time": "2023-10-30T14:08:02.364Z"
   },
   {
    "duration": 104,
    "start_time": "2023-10-30T14:08:26.050Z"
   },
   {
    "duration": 4,
    "start_time": "2023-10-30T14:08:50.590Z"
   },
   {
    "duration": 8,
    "start_time": "2023-10-30T14:09:03.270Z"
   },
   {
    "duration": 6,
    "start_time": "2023-10-30T14:09:26.561Z"
   },
   {
    "duration": 10,
    "start_time": "2023-10-30T14:10:52.994Z"
   },
   {
    "duration": 34,
    "start_time": "2023-10-30T14:16:38.792Z"
   },
   {
    "duration": 20,
    "start_time": "2023-10-30T14:16:42.586Z"
   },
   {
    "duration": 20,
    "start_time": "2023-10-30T14:16:43.636Z"
   },
   {
    "duration": 20,
    "start_time": "2023-10-30T14:16:44.296Z"
   },
   {
    "duration": 7,
    "start_time": "2023-10-30T14:16:47.042Z"
   },
   {
    "duration": 213,
    "start_time": "2023-10-30T14:16:50.836Z"
   },
   {
    "duration": 54,
    "start_time": "2023-10-30T14:16:54.225Z"
   },
   {
    "duration": 21,
    "start_time": "2023-10-30T14:16:56.926Z"
   },
   {
    "duration": 311,
    "start_time": "2023-10-30T14:17:03.843Z"
   },
   {
    "duration": 10,
    "start_time": "2023-10-30T14:17:07.712Z"
   },
   {
    "duration": 258,
    "start_time": "2023-10-30T14:17:15.765Z"
   },
   {
    "duration": 70,
    "start_time": "2023-10-30T14:17:21.049Z"
   },
   {
    "duration": 75,
    "start_time": "2023-10-30T14:17:24.963Z"
   },
   {
    "duration": 64,
    "start_time": "2023-10-30T14:17:54.004Z"
   },
   {
    "duration": 74,
    "start_time": "2023-10-30T14:17:56.059Z"
   },
   {
    "duration": 44,
    "start_time": "2023-10-30T14:18:07.325Z"
   },
   {
    "duration": 19,
    "start_time": "2023-10-30T14:18:28.641Z"
   },
   {
    "duration": 7,
    "start_time": "2023-10-30T14:18:34.820Z"
   },
   {
    "duration": 116,
    "start_time": "2023-10-30T14:18:41.812Z"
   },
   {
    "duration": 12,
    "start_time": "2023-10-30T14:23:20.494Z"
   },
   {
    "duration": 5,
    "start_time": "2023-10-30T14:23:35.029Z"
   },
   {
    "duration": 14082,
    "start_time": "2023-10-30T14:23:39.094Z"
   },
   {
    "duration": 41,
    "start_time": "2023-10-30T14:24:56.661Z"
   },
   {
    "duration": 13737,
    "start_time": "2023-10-30T14:25:03.382Z"
   },
   {
    "duration": 13,
    "start_time": "2023-10-30T14:32:44.037Z"
   },
   {
    "duration": 7645,
    "start_time": "2023-10-30T14:34:18.617Z"
   },
   {
    "duration": 7704,
    "start_time": "2023-10-30T14:34:29.192Z"
   },
   {
    "duration": 7811,
    "start_time": "2023-10-30T14:34:57.138Z"
   },
   {
    "duration": 7982,
    "start_time": "2023-10-30T14:36:43.674Z"
   },
   {
    "duration": 8188,
    "start_time": "2023-10-30T14:36:56.288Z"
   },
   {
    "duration": 7840,
    "start_time": "2023-10-30T14:37:16.854Z"
   },
   {
    "duration": 67,
    "start_time": "2023-10-30T14:38:13.392Z"
   },
   {
    "duration": 10,
    "start_time": "2023-10-30T14:38:15.882Z"
   },
   {
    "duration": 26,
    "start_time": "2023-10-30T14:38:46.198Z"
   },
   {
    "duration": 9,
    "start_time": "2023-10-30T14:39:07.185Z"
   },
   {
    "duration": 9,
    "start_time": "2023-10-30T14:39:17.595Z"
   },
   {
    "duration": 9,
    "start_time": "2023-10-30T14:39:47.944Z"
   },
   {
    "duration": 120,
    "start_time": "2023-10-30T14:39:57.540Z"
   },
   {
    "duration": 26,
    "start_time": "2023-10-30T14:41:34.399Z"
   },
   {
    "duration": 16,
    "start_time": "2023-10-30T14:49:30.877Z"
   },
   {
    "duration": 22,
    "start_time": "2023-10-30T14:49:55.929Z"
   },
   {
    "duration": 22,
    "start_time": "2023-10-30T14:50:26.485Z"
   },
   {
    "duration": 18,
    "start_time": "2023-10-30T14:50:31.720Z"
   },
   {
    "duration": 19,
    "start_time": "2023-10-30T14:50:45.492Z"
   },
   {
    "duration": 17,
    "start_time": "2023-10-30T14:50:49.692Z"
   },
   {
    "duration": 19,
    "start_time": "2023-10-30T14:50:55.572Z"
   },
   {
    "duration": 5,
    "start_time": "2023-10-30T14:51:04.707Z"
   },
   {
    "duration": 4,
    "start_time": "2023-10-30T14:51:06.912Z"
   },
   {
    "duration": 50,
    "start_time": "2023-10-30T14:51:09.369Z"
   },
   {
    "duration": 7,
    "start_time": "2023-10-30T14:51:12.670Z"
   },
   {
    "duration": 8,
    "start_time": "2023-10-30T14:51:15.356Z"
   },
   {
    "duration": 11,
    "start_time": "2023-10-30T14:51:24.549Z"
   },
   {
    "duration": 13,
    "start_time": "2023-10-30T14:51:29.622Z"
   },
   {
    "duration": 7,
    "start_time": "2023-10-30T14:52:27.914Z"
   },
   {
    "duration": 180,
    "start_time": "2023-10-30T14:52:42.779Z"
   },
   {
    "duration": 80,
    "start_time": "2023-10-30T14:52:45.495Z"
   },
   {
    "duration": 31,
    "start_time": "2023-10-30T14:52:48.014Z"
   },
   {
    "duration": 276,
    "start_time": "2023-10-30T14:52:50.670Z"
   },
   {
    "duration": 14,
    "start_time": "2023-10-30T14:52:54.015Z"
   },
   {
    "duration": 254,
    "start_time": "2023-10-30T14:52:56.115Z"
   },
   {
    "duration": 67,
    "start_time": "2023-10-30T14:52:58.921Z"
   },
   {
    "duration": 69,
    "start_time": "2023-10-30T14:53:01.081Z"
   },
   {
    "duration": 41,
    "start_time": "2023-10-30T14:53:03.662Z"
   },
   {
    "duration": 20,
    "start_time": "2023-10-30T14:53:05.972Z"
   },
   {
    "duration": 7,
    "start_time": "2023-10-30T14:53:09.031Z"
   },
   {
    "duration": 141,
    "start_time": "2023-10-30T14:53:11.837Z"
   },
   {
    "duration": 6599,
    "start_time": "2023-10-30T14:53:14.626Z"
   },
   {
    "duration": 6617,
    "start_time": "2023-10-30T14:53:25.066Z"
   },
   {
    "duration": 48,
    "start_time": "2023-10-30T14:53:51.061Z"
   },
   {
    "duration": 29,
    "start_time": "2023-10-30T14:53:53.897Z"
   },
   {
    "duration": 10,
    "start_time": "2023-10-30T14:53:57.122Z"
   },
   {
    "duration": 124,
    "start_time": "2023-10-30T14:54:00.542Z"
   },
   {
    "duration": 20,
    "start_time": "2023-10-30T14:54:04.502Z"
   },
   {
    "duration": 21,
    "start_time": "2023-10-30T14:54:06.663Z"
   },
   {
    "duration": 20,
    "start_time": "2023-10-30T14:54:07.398Z"
   },
   {
    "duration": 20,
    "start_time": "2023-10-30T14:54:07.803Z"
   },
   {
    "duration": 21,
    "start_time": "2023-10-30T14:54:11.806Z"
   },
   {
    "duration": 24,
    "start_time": "2023-10-30T14:54:18.889Z"
   },
   {
    "duration": 17,
    "start_time": "2023-10-30T14:54:26.690Z"
   },
   {
    "duration": 21,
    "start_time": "2023-10-30T14:54:31.203Z"
   },
   {
    "duration": 22,
    "start_time": "2023-10-30T14:54:34.999Z"
   },
   {
    "duration": 19,
    "start_time": "2023-10-30T14:54:42.814Z"
   },
   {
    "duration": 8,
    "start_time": "2023-10-30T15:06:03.508Z"
   },
   {
    "duration": 109,
    "start_time": "2023-10-30T15:06:45.525Z"
   },
   {
    "duration": 28,
    "start_time": "2023-10-30T15:08:23.103Z"
   },
   {
    "duration": 6,
    "start_time": "2023-10-30T15:28:01.785Z"
   },
   {
    "duration": 4,
    "start_time": "2023-10-30T15:28:04.994Z"
   },
   {
    "duration": 52,
    "start_time": "2023-10-30T15:28:07.664Z"
   },
   {
    "duration": 11,
    "start_time": "2023-10-30T15:38:09.050Z"
   },
   {
    "duration": 6,
    "start_time": "2023-10-30T15:38:11.583Z"
   },
   {
    "duration": 5,
    "start_time": "2023-10-30T15:38:52.759Z"
   },
   {
    "duration": 592,
    "start_time": "2023-10-30T15:41:59.863Z"
   },
   {
    "duration": 12,
    "start_time": "2023-10-30T15:42:55.565Z"
   },
   {
    "duration": 159,
    "start_time": "2023-10-30T15:55:09.250Z"
   },
   {
    "duration": 176,
    "start_time": "2023-10-30T15:55:17.188Z"
   },
   {
    "duration": 258,
    "start_time": "2023-10-30T15:55:22.602Z"
   },
   {
    "duration": 203,
    "start_time": "2023-10-30T15:55:27.161Z"
   },
   {
    "duration": 7171,
    "start_time": "2023-10-30T15:55:35.097Z"
   },
   {
    "duration": 25,
    "start_time": "2023-10-30T15:55:48.581Z"
   },
   {
    "duration": 269,
    "start_time": "2023-10-30T15:55:53.579Z"
   },
   {
    "duration": 10,
    "start_time": "2023-10-30T15:55:56.293Z"
   },
   {
    "duration": 119,
    "start_time": "2023-10-30T15:55:59.173Z"
   },
   {
    "duration": 62,
    "start_time": "2023-10-30T15:56:12.030Z"
   },
   {
    "duration": 74,
    "start_time": "2023-10-30T15:56:21.495Z"
   },
   {
    "duration": 1659,
    "start_time": "2023-10-30T15:56:28.259Z"
   },
   {
    "duration": 17,
    "start_time": "2023-10-30T15:56:36.840Z"
   },
   {
    "duration": 9,
    "start_time": "2023-10-30T15:56:42.586Z"
   },
   {
    "duration": 120,
    "start_time": "2023-10-30T15:56:45.258Z"
   },
   {
    "duration": 6799,
    "start_time": "2023-10-30T15:56:57.301Z"
   },
   {
    "duration": 6572,
    "start_time": "2023-10-30T15:57:22.995Z"
   },
   {
    "duration": 28,
    "start_time": "2023-10-30T15:57:31.518Z"
   },
   {
    "duration": 3131,
    "start_time": "2023-10-30T15:58:02.252Z"
   },
   {
    "duration": 27,
    "start_time": "2023-10-30T15:58:06.574Z"
   },
   {
    "duration": 11,
    "start_time": "2023-10-30T15:58:10.368Z"
   },
   {
    "duration": 116,
    "start_time": "2023-10-30T15:58:13.006Z"
   },
   {
    "duration": 22,
    "start_time": "2023-10-30T15:58:37.639Z"
   },
   {
    "duration": 8,
    "start_time": "2023-10-30T15:58:39.919Z"
   },
   {
    "duration": 112,
    "start_time": "2023-10-30T15:58:42.002Z"
   },
   {
    "duration": 21,
    "start_time": "2023-10-30T15:59:25.011Z"
   },
   {
    "duration": 18,
    "start_time": "2023-10-30T15:59:30.485Z"
   },
   {
    "duration": 24,
    "start_time": "2023-10-30T15:59:35.600Z"
   },
   {
    "duration": 19,
    "start_time": "2023-10-30T15:59:44.479Z"
   },
   {
    "duration": 11,
    "start_time": "2023-10-30T16:05:58.729Z"
   },
   {
    "duration": 9457,
    "start_time": "2023-10-30T19:06:27.350Z"
   },
   {
    "duration": 6,
    "start_time": "2023-10-30T19:06:36.809Z"
   },
   {
    "duration": 188,
    "start_time": "2023-10-30T19:06:36.816Z"
   },
   {
    "duration": 6,
    "start_time": "2023-10-30T19:06:37.006Z"
   },
   {
    "duration": 41,
    "start_time": "2023-10-30T19:06:37.014Z"
   },
   {
    "duration": 20,
    "start_time": "2023-10-30T19:06:37.057Z"
   },
   {
    "duration": 28,
    "start_time": "2023-10-30T19:06:37.079Z"
   },
   {
    "duration": 23,
    "start_time": "2023-10-30T19:06:37.109Z"
   },
   {
    "duration": 52,
    "start_time": "2023-10-30T19:06:37.134Z"
   },
   {
    "duration": 261,
    "start_time": "2023-10-30T19:06:37.188Z"
   },
   {
    "duration": 10,
    "start_time": "2023-10-30T19:06:37.450Z"
   },
   {
    "duration": 287,
    "start_time": "2023-10-30T19:06:37.461Z"
   },
   {
    "duration": 3397,
    "start_time": "2023-10-30T19:06:37.753Z"
   },
   {
    "duration": 106,
    "start_time": "2023-10-30T19:06:41.154Z"
   },
   {
    "duration": 389,
    "start_time": "2023-10-30T19:06:41.262Z"
   },
   {
    "duration": 13,
    "start_time": "2023-10-30T19:06:41.653Z"
   },
   {
    "duration": 368,
    "start_time": "2023-10-30T19:06:41.670Z"
   },
   {
    "duration": 62,
    "start_time": "2023-10-30T19:06:42.039Z"
   },
   {
    "duration": 70,
    "start_time": "2023-10-30T19:06:42.102Z"
   },
   {
    "duration": 1744,
    "start_time": "2023-10-30T19:06:42.173Z"
   },
   {
    "duration": 27,
    "start_time": "2023-10-30T19:06:43.918Z"
   },
   {
    "duration": 9,
    "start_time": "2023-10-30T19:06:43.948Z"
   },
   {
    "duration": 153,
    "start_time": "2023-10-30T19:06:43.958Z"
   },
   {
    "duration": 6908,
    "start_time": "2023-10-30T19:06:44.113Z"
   },
   {
    "duration": 6596,
    "start_time": "2023-10-30T19:06:51.024Z"
   },
   {
    "duration": 3272,
    "start_time": "2023-10-30T19:06:57.621Z"
   },
   {
    "duration": 27,
    "start_time": "2023-10-30T19:07:00.894Z"
   },
   {
    "duration": 42,
    "start_time": "2023-10-30T19:07:00.922Z"
   },
   {
    "duration": 144,
    "start_time": "2023-10-30T19:07:00.966Z"
   },
   {
    "duration": 19,
    "start_time": "2023-10-30T19:07:01.112Z"
   },
   {
    "duration": 69,
    "start_time": "2023-10-30T19:07:01.133Z"
   },
   {
    "duration": 139,
    "start_time": "2023-10-30T19:07:01.204Z"
   },
   {
    "duration": 6672,
    "start_time": "2023-10-30T19:07:11.503Z"
   },
   {
    "duration": 4,
    "start_time": "2023-10-30T19:07:31.911Z"
   },
   {
    "duration": 6765,
    "start_time": "2023-10-30T19:07:36.544Z"
   },
   {
    "duration": 6922,
    "start_time": "2023-10-30T19:07:44.627Z"
   },
   {
    "duration": 6699,
    "start_time": "2023-10-30T19:08:16.395Z"
   },
   {
    "duration": 6734,
    "start_time": "2023-10-30T19:08:26.029Z"
   },
   {
    "duration": 6687,
    "start_time": "2023-10-30T19:08:35.592Z"
   },
   {
    "duration": 6675,
    "start_time": "2023-10-30T19:08:46.388Z"
   },
   {
    "duration": 67,
    "start_time": "2023-10-30T19:08:59.813Z"
   },
   {
    "duration": 1772,
    "start_time": "2023-10-30T19:09:00.894Z"
   },
   {
    "duration": 15,
    "start_time": "2023-10-30T19:09:02.667Z"
   },
   {
    "duration": 47,
    "start_time": "2023-10-30T19:09:02.727Z"
   },
   {
    "duration": 106,
    "start_time": "2023-10-30T19:09:02.941Z"
   },
   {
    "duration": 6725,
    "start_time": "2023-10-30T19:09:04.489Z"
   },
   {
    "duration": 6,
    "start_time": "2023-10-30T19:17:24.432Z"
   },
   {
    "duration": 7,
    "start_time": "2023-10-30T19:17:29.950Z"
   },
   {
    "duration": 55,
    "start_time": "2023-10-30T19:17:32.787Z"
   },
   {
    "duration": 7,
    "start_time": "2023-10-30T19:17:36.429Z"
   },
   {
    "duration": 12,
    "start_time": "2023-10-30T19:17:39.385Z"
   },
   {
    "duration": 11,
    "start_time": "2023-10-30T19:17:43.585Z"
   },
   {
    "duration": 6,
    "start_time": "2023-10-30T19:17:46.750Z"
   },
   {
    "duration": 5,
    "start_time": "2023-10-30T19:17:59.412Z"
   },
   {
    "duration": 28,
    "start_time": "2023-10-30T19:18:04.481Z"
   },
   {
    "duration": 234,
    "start_time": "2023-10-30T19:18:10.542Z"
   },
   {
    "duration": 224,
    "start_time": "2023-10-30T19:18:31.378Z"
   },
   {
    "duration": 28,
    "start_time": "2023-10-30T19:18:49.993Z"
   },
   {
    "duration": 14,
    "start_time": "2023-10-30T19:19:03.973Z"
   },
   {
    "duration": 12,
    "start_time": "2023-10-30T19:19:09.868Z"
   },
   {
    "duration": 259,
    "start_time": "2023-10-30T19:20:34.997Z"
   },
   {
    "duration": 1099,
    "start_time": "2023-10-30T19:20:41.283Z"
   },
   {
    "duration": 18,
    "start_time": "2023-10-30T19:21:02.238Z"
   },
   {
    "duration": 12,
    "start_time": "2023-10-30T19:21:34.279Z"
   },
   {
    "duration": 17,
    "start_time": "2023-10-30T19:21:55.100Z"
   },
   {
    "duration": 18,
    "start_time": "2023-10-30T19:21:57.290Z"
   },
   {
    "duration": 13,
    "start_time": "2023-10-30T19:22:06.786Z"
   },
   {
    "duration": 17,
    "start_time": "2023-10-30T19:22:20.917Z"
   },
   {
    "duration": 230,
    "start_time": "2023-10-30T19:23:48.773Z"
   },
   {
    "duration": 13,
    "start_time": "2023-10-30T19:23:57.098Z"
   },
   {
    "duration": 13,
    "start_time": "2023-10-30T19:24:06.176Z"
   },
   {
    "duration": 15,
    "start_time": "2023-10-30T19:25:00.492Z"
   },
   {
    "duration": 13,
    "start_time": "2023-10-30T19:25:11.263Z"
   },
   {
    "duration": 14,
    "start_time": "2023-10-30T19:25:16.242Z"
   },
   {
    "duration": 18,
    "start_time": "2023-10-30T19:25:19.842Z"
   },
   {
    "duration": 14,
    "start_time": "2023-10-30T19:25:41.729Z"
   },
   {
    "duration": 142,
    "start_time": "2023-10-30T19:26:00.538Z"
   },
   {
    "duration": 37,
    "start_time": "2023-10-30T19:27:07.023Z"
   },
   {
    "duration": 114,
    "start_time": "2023-10-30T19:27:48.934Z"
   },
   {
    "duration": 45,
    "start_time": "2023-10-30T19:28:03.214Z"
   },
   {
    "duration": 378,
    "start_time": "2023-10-30T19:29:57.520Z"
   },
   {
    "duration": 111,
    "start_time": "2023-10-30T19:33:43.249Z"
   },
   {
    "duration": 6,
    "start_time": "2023-10-30T19:34:01.324Z"
   },
   {
    "duration": 422,
    "start_time": "2023-10-30T19:34:31.687Z"
   },
   {
    "duration": 8,
    "start_time": "2023-10-30T19:34:59.152Z"
   },
   {
    "duration": 484,
    "start_time": "2023-10-30T19:35:02.229Z"
   },
   {
    "duration": 225,
    "start_time": "2023-10-30T19:37:15.479Z"
   },
   {
    "duration": 8,
    "start_time": "2023-10-30T19:38:25.364Z"
   },
   {
    "duration": 116,
    "start_time": "2023-10-30T19:38:49.039Z"
   },
   {
    "duration": 272,
    "start_time": "2023-10-30T19:38:54.000Z"
   },
   {
    "duration": 188,
    "start_time": "2023-10-30T19:39:37.910Z"
   },
   {
    "duration": 7168,
    "start_time": "2023-10-30T19:41:24.249Z"
   },
   {
    "duration": 6962,
    "start_time": "2023-10-30T19:41:46.646Z"
   },
   {
    "duration": 114,
    "start_time": "2023-10-30T19:43:18.749Z"
   },
   {
    "duration": 99,
    "start_time": "2023-10-30T19:43:23.310Z"
   },
   {
    "duration": 12,
    "start_time": "2023-10-30T19:43:29.759Z"
   },
   {
    "duration": 3,
    "start_time": "2023-10-30T19:43:57.435Z"
   },
   {
    "duration": 4,
    "start_time": "2023-10-30T19:44:05.925Z"
   },
   {
    "duration": 6,
    "start_time": "2023-10-30T19:44:51.092Z"
   },
   {
    "duration": 5,
    "start_time": "2023-10-30T19:46:39.907Z"
   },
   {
    "duration": 7,
    "start_time": "2023-10-30T19:46:46.673Z"
   },
   {
    "duration": 10,
    "start_time": "2023-10-30T19:46:52.686Z"
   },
   {
    "duration": 9,
    "start_time": "2023-10-30T19:50:00.398Z"
   },
   {
    "duration": 8,
    "start_time": "2023-10-30T19:50:18.376Z"
   },
   {
    "duration": 9,
    "start_time": "2023-10-30T19:50:39.782Z"
   },
   {
    "duration": 20,
    "start_time": "2023-10-30T19:52:26.738Z"
   },
   {
    "duration": 9,
    "start_time": "2023-10-30T19:52:59.917Z"
   },
   {
    "duration": 12,
    "start_time": "2023-10-30T19:54:10.766Z"
   },
   {
    "duration": 331,
    "start_time": "2023-10-30T19:55:10.227Z"
   },
   {
    "duration": 177,
    "start_time": "2023-10-30T19:56:25.200Z"
   },
   {
    "duration": 7111,
    "start_time": "2023-10-30T19:58:21.245Z"
   },
   {
    "duration": 11,
    "start_time": "2023-10-30T19:59:05.888Z"
   },
   {
    "duration": 21,
    "start_time": "2023-10-30T20:00:01.231Z"
   },
   {
    "duration": 19,
    "start_time": "2023-10-30T20:00:36.762Z"
   },
   {
    "duration": 16,
    "start_time": "2023-10-30T20:00:42.808Z"
   },
   {
    "duration": 16,
    "start_time": "2023-10-30T20:01:06.328Z"
   },
   {
    "duration": 10,
    "start_time": "2023-10-30T20:01:54.404Z"
   },
   {
    "duration": 12,
    "start_time": "2023-10-30T20:02:09.752Z"
   },
   {
    "duration": 13,
    "start_time": "2023-10-30T20:02:10.801Z"
   },
   {
    "duration": 9,
    "start_time": "2023-10-30T20:05:11.978Z"
   },
   {
    "duration": 319,
    "start_time": "2023-10-30T20:06:01.240Z"
   },
   {
    "duration": 266,
    "start_time": "2023-10-30T20:06:10.196Z"
   },
   {
    "duration": 182,
    "start_time": "2023-10-30T20:07:13.680Z"
   },
   {
    "duration": 6765,
    "start_time": "2023-10-30T20:07:51.661Z"
   },
   {
    "duration": 10,
    "start_time": "2023-10-30T20:08:04.314Z"
   },
   {
    "duration": 146,
    "start_time": "2023-10-30T20:08:51.048Z"
   },
   {
    "duration": 79,
    "start_time": "2023-10-30T20:11:03.249Z"
   },
   {
    "duration": 72,
    "start_time": "2023-10-30T20:11:12.548Z"
   },
   {
    "duration": 178,
    "start_time": "2023-10-30T20:11:19.569Z"
   },
   {
    "duration": 6827,
    "start_time": "2023-10-30T20:11:30.504Z"
   },
   {
    "duration": 41,
    "start_time": "2023-10-30T20:12:22.871Z"
   },
   {
    "duration": 152,
    "start_time": "2023-10-30T20:12:55.957Z"
   },
   {
    "duration": 13,
    "start_time": "2023-10-30T20:13:42.405Z"
   },
   {
    "duration": 11,
    "start_time": "2023-10-30T20:13:53.146Z"
   },
   {
    "duration": 4,
    "start_time": "2023-10-30T20:14:09.602Z"
   },
   {
    "duration": 4,
    "start_time": "2023-10-30T20:14:11.927Z"
   },
   {
    "duration": 48,
    "start_time": "2023-10-30T20:14:14.129Z"
   },
   {
    "duration": 6,
    "start_time": "2023-10-30T20:14:17.757Z"
   },
   {
    "duration": 10,
    "start_time": "2023-10-30T20:14:20.296Z"
   },
   {
    "duration": 11,
    "start_time": "2023-10-30T20:14:23.206Z"
   },
   {
    "duration": 7,
    "start_time": "2023-10-30T20:14:25.787Z"
   },
   {
    "duration": 6,
    "start_time": "2023-10-30T20:14:28.832Z"
   },
   {
    "duration": 26,
    "start_time": "2023-10-30T20:14:31.082Z"
   },
   {
    "duration": 19,
    "start_time": "2023-10-30T20:14:35.132Z"
   },
   {
    "duration": 21,
    "start_time": "2023-10-30T20:14:40.339Z"
   },
   {
    "duration": 5,
    "start_time": "2023-10-30T20:14:45.398Z"
   },
   {
    "duration": 303,
    "start_time": "2023-10-30T20:14:47.857Z"
   },
   {
    "duration": 206,
    "start_time": "2023-10-30T20:15:03.874Z"
   },
   {
    "duration": 7009,
    "start_time": "2023-10-30T20:15:14.596Z"
   },
   {
    "duration": 9,
    "start_time": "2023-10-30T20:15:24.056Z"
   },
   {
    "duration": 324,
    "start_time": "2023-10-30T20:15:27.754Z"
   },
   {
    "duration": 191,
    "start_time": "2023-10-30T20:15:30.619Z"
   },
   {
    "duration": 7181,
    "start_time": "2023-10-30T20:15:34.084Z"
   },
   {
    "duration": 10,
    "start_time": "2023-10-30T20:15:44.884Z"
   },
   {
    "duration": 310,
    "start_time": "2023-10-30T20:15:48.036Z"
   },
   {
    "duration": 131,
    "start_time": "2023-10-30T20:15:50.705Z"
   },
   {
    "duration": 153,
    "start_time": "2023-10-30T20:15:53.064Z"
   },
   {
    "duration": 6,
    "start_time": "2023-10-30T20:16:08.497Z"
   },
   {
    "duration": 6,
    "start_time": "2023-10-30T20:16:18.865Z"
   },
   {
    "duration": 12,
    "start_time": "2023-10-30T20:16:24.549Z"
   },
   {
    "duration": 4,
    "start_time": "2023-10-30T20:16:33.097Z"
   },
   {
    "duration": 15,
    "start_time": "2023-10-30T20:16:36.687Z"
   },
   {
    "duration": 8,
    "start_time": "2023-10-30T20:16:45.487Z"
   },
   {
    "duration": 306,
    "start_time": "2023-10-30T20:17:36.253Z"
   },
   {
    "duration": 138,
    "start_time": "2023-10-30T20:17:39.520Z"
   },
   {
    "duration": 154,
    "start_time": "2023-10-30T20:17:44.065Z"
   },
   {
    "duration": 14,
    "start_time": "2023-10-30T20:17:47.770Z"
   },
   {
    "duration": 10,
    "start_time": "2023-10-30T20:17:59.936Z"
   },
   {
    "duration": 8,
    "start_time": "2023-10-30T20:18:02.801Z"
   },
   {
    "duration": 5,
    "start_time": "2023-10-30T20:18:09.385Z"
   },
   {
    "duration": 4,
    "start_time": "2023-10-30T20:18:13.991Z"
   },
   {
    "duration": 5,
    "start_time": "2023-10-30T20:19:33.031Z"
   },
   {
    "duration": 5,
    "start_time": "2023-10-30T20:19:35.658Z"
   },
   {
    "duration": 51,
    "start_time": "2023-10-30T20:19:38.956Z"
   },
   {
    "duration": 6,
    "start_time": "2023-10-30T20:19:41.595Z"
   },
   {
    "duration": 10,
    "start_time": "2023-10-30T20:19:44.519Z"
   },
   {
    "duration": 13,
    "start_time": "2023-10-30T20:19:47.445Z"
   },
   {
    "duration": 8,
    "start_time": "2023-10-30T20:19:50.624Z"
   },
   {
    "duration": 5,
    "start_time": "2023-10-30T20:19:53.326Z"
   },
   {
    "duration": 25,
    "start_time": "2023-10-30T20:19:56.773Z"
   },
   {
    "duration": 12,
    "start_time": "2023-10-30T20:20:00.496Z"
   },
   {
    "duration": 13,
    "start_time": "2023-10-30T20:20:04.185Z"
   },
   {
    "duration": 6,
    "start_time": "2023-10-30T20:20:08.985Z"
   },
   {
    "duration": 263,
    "start_time": "2023-10-30T20:20:12.796Z"
   },
   {
    "duration": 182,
    "start_time": "2023-10-30T20:20:15.571Z"
   },
   {
    "duration": 6882,
    "start_time": "2023-10-30T20:20:19.503Z"
   },
   {
    "duration": 9,
    "start_time": "2023-10-30T20:20:28.832Z"
   },
   {
    "duration": 330,
    "start_time": "2023-10-30T20:20:33.631Z"
   },
   {
    "duration": 186,
    "start_time": "2023-10-30T20:20:36.586Z"
   },
   {
    "duration": 7018,
    "start_time": "2023-10-30T20:20:40.853Z"
   },
   {
    "duration": 7046,
    "start_time": "2023-10-30T20:21:23.823Z"
   },
   {
    "duration": 281,
    "start_time": "2023-10-30T20:21:35.028Z"
   },
   {
    "duration": 5,
    "start_time": "2023-10-30T20:21:39.425Z"
   },
   {
    "duration": 325,
    "start_time": "2023-10-30T20:21:50.031Z"
   },
   {
    "duration": 145,
    "start_time": "2023-10-30T20:21:56.960Z"
   },
   {
    "duration": 548,
    "start_time": "2023-10-30T20:22:09.357Z"
   },
   {
    "duration": 5,
    "start_time": "2023-10-30T20:22:14.899Z"
   },
   {
    "duration": 8,
    "start_time": "2023-10-30T20:22:17.406Z"
   },
   {
    "duration": 580,
    "start_time": "2023-10-30T20:23:00.833Z"
   },
   {
    "duration": 9,
    "start_time": "2023-10-30T20:23:07.282Z"
   },
   {
    "duration": 323,
    "start_time": "2023-10-30T20:24:32.037Z"
   },
   {
    "duration": 133,
    "start_time": "2023-10-30T20:25:41.958Z"
   },
   {
    "duration": 173,
    "start_time": "2023-10-30T20:27:34.956Z"
   },
   {
    "duration": 6,
    "start_time": "2023-10-30T20:28:21.653Z"
   },
   {
    "duration": 9,
    "start_time": "2023-10-30T20:28:27.695Z"
   },
   {
    "duration": 20,
    "start_time": "2023-10-30T20:29:46.420Z"
   },
   {
    "duration": 10,
    "start_time": "2023-10-30T20:29:48.925Z"
   },
   {
    "duration": 139,
    "start_time": "2023-10-30T20:30:29.082Z"
   },
   {
    "duration": 139,
    "start_time": "2023-10-30T20:30:55.577Z"
   },
   {
    "duration": 139,
    "start_time": "2023-10-30T20:31:04.051Z"
   },
   {
    "duration": 4,
    "start_time": "2023-10-30T20:34:59.758Z"
   },
   {
    "duration": 17,
    "start_time": "2023-10-30T20:35:20.467Z"
   },
   {
    "duration": 17,
    "start_time": "2023-10-30T20:36:21.911Z"
   },
   {
    "duration": 15,
    "start_time": "2023-10-30T20:37:37.289Z"
   },
   {
    "duration": 9,
    "start_time": "2023-10-30T20:37:46.664Z"
   },
   {
    "duration": 13,
    "start_time": "2023-10-30T20:37:58.020Z"
   },
   {
    "duration": 3,
    "start_time": "2023-10-30T20:38:15.120Z"
   },
   {
    "duration": 349,
    "start_time": "2023-10-30T20:38:23.241Z"
   },
   {
    "duration": 329,
    "start_time": "2023-10-30T20:38:38.192Z"
   },
   {
    "duration": 293,
    "start_time": "2023-10-30T20:39:47.628Z"
   },
   {
    "duration": 4,
    "start_time": "2023-10-30T20:40:04.114Z"
   },
   {
    "duration": 4,
    "start_time": "2023-10-30T20:40:07.084Z"
   },
   {
    "duration": 60,
    "start_time": "2023-10-30T20:40:09.862Z"
   },
   {
    "duration": 8,
    "start_time": "2023-10-30T20:40:14.061Z"
   },
   {
    "duration": 12,
    "start_time": "2023-10-30T20:40:18.185Z"
   },
   {
    "duration": 10,
    "start_time": "2023-10-30T20:40:21.276Z"
   },
   {
    "duration": 5,
    "start_time": "2023-10-30T20:40:24.800Z"
   },
   {
    "duration": 5,
    "start_time": "2023-10-30T20:40:27.410Z"
   },
   {
    "duration": 30,
    "start_time": "2023-10-30T20:40:29.870Z"
   },
   {
    "duration": 112,
    "start_time": "2023-10-30T20:40:33.606Z"
   },
   {
    "duration": 18,
    "start_time": "2023-10-30T20:40:39.562Z"
   },
   {
    "duration": 5,
    "start_time": "2023-10-30T20:40:44.438Z"
   },
   {
    "duration": 286,
    "start_time": "2023-10-30T20:40:48.382Z"
   },
   {
    "duration": 302,
    "start_time": "2023-10-30T20:41:15.263Z"
   },
   {
    "duration": 188,
    "start_time": "2023-10-30T20:41:30.143Z"
   },
   {
    "duration": 305,
    "start_time": "2023-10-30T20:41:41.261Z"
   },
   {
    "duration": 184,
    "start_time": "2023-10-30T20:41:46.751Z"
   },
   {
    "duration": 191,
    "start_time": "2023-10-30T20:42:16.693Z"
   },
   {
    "duration": 5,
    "start_time": "2023-10-30T20:42:46.136Z"
   },
   {
    "duration": 269,
    "start_time": "2023-10-30T20:42:51.882Z"
   },
   {
    "duration": 198,
    "start_time": "2023-10-30T20:42:59.052Z"
   },
   {
    "duration": 7088,
    "start_time": "2023-10-30T20:43:18.838Z"
   },
   {
    "duration": 8,
    "start_time": "2023-10-30T20:43:29.669Z"
   },
   {
    "duration": 288,
    "start_time": "2023-10-30T20:43:39.778Z"
   },
   {
    "duration": 303,
    "start_time": "2023-10-30T20:43:54.662Z"
   },
   {
    "duration": 182,
    "start_time": "2023-10-30T20:44:11.234Z"
   },
   {
    "duration": 216,
    "start_time": "2023-10-30T20:44:23.960Z"
   },
   {
    "duration": 191,
    "start_time": "2023-10-30T20:44:47.580Z"
   },
   {
    "duration": 7361,
    "start_time": "2023-10-30T20:44:55.666Z"
   },
   {
    "duration": 7398,
    "start_time": "2023-10-30T20:45:05.626Z"
   },
   {
    "duration": 6,
    "start_time": "2023-10-30T20:45:19.353Z"
   },
   {
    "duration": 296,
    "start_time": "2023-10-30T20:45:35.210Z"
   },
   {
    "duration": 141,
    "start_time": "2023-10-30T20:45:53.630Z"
   },
   {
    "duration": 576,
    "start_time": "2023-10-30T20:46:10.384Z"
   },
   {
    "duration": 8,
    "start_time": "2023-10-30T20:46:17.644Z"
   },
   {
    "duration": 302,
    "start_time": "2023-10-30T20:46:27.755Z"
   },
   {
    "duration": 132,
    "start_time": "2023-10-30T20:46:42.771Z"
   },
   {
    "duration": 179,
    "start_time": "2023-10-30T20:46:59.332Z"
   },
   {
    "duration": 6,
    "start_time": "2023-10-30T20:47:02.363Z"
   },
   {
    "duration": 9,
    "start_time": "2023-10-30T20:47:04.791Z"
   },
   {
    "duration": 9,
    "start_time": "2023-10-30T20:47:08.166Z"
   },
   {
    "duration": 12,
    "start_time": "2023-10-30T20:51:39.784Z"
   },
   {
    "duration": 85,
    "start_time": "2023-10-30T20:53:01.567Z"
   },
   {
    "duration": 83,
    "start_time": "2023-10-30T20:53:26.213Z"
   },
   {
    "duration": 193,
    "start_time": "2023-10-30T20:53:35.693Z"
   },
   {
    "duration": 201,
    "start_time": "2023-10-30T20:53:47.771Z"
   },
   {
    "duration": 4,
    "start_time": "2023-10-30T20:54:10.226Z"
   },
   {
    "duration": 5,
    "start_time": "2023-10-30T20:54:13.062Z"
   },
   {
    "duration": 47,
    "start_time": "2023-10-30T20:54:16.048Z"
   },
   {
    "duration": 8,
    "start_time": "2023-10-30T20:54:19.227Z"
   },
   {
    "duration": 16,
    "start_time": "2023-10-30T20:54:21.910Z"
   },
   {
    "duration": 13,
    "start_time": "2023-10-30T20:54:25.016Z"
   },
   {
    "duration": 7,
    "start_time": "2023-10-30T20:54:28.436Z"
   },
   {
    "duration": 6,
    "start_time": "2023-10-30T20:54:31.783Z"
   },
   {
    "duration": 35,
    "start_time": "2023-10-30T20:54:34.302Z"
   },
   {
    "duration": 14,
    "start_time": "2023-10-30T20:54:37.601Z"
   },
   {
    "duration": 14,
    "start_time": "2023-10-30T20:54:40.812Z"
   },
   {
    "duration": 14,
    "start_time": "2023-10-30T20:54:45.044Z"
   },
   {
    "duration": 269,
    "start_time": "2023-10-30T20:54:49.393Z"
   },
   {
    "duration": 184,
    "start_time": "2023-10-30T20:55:04.756Z"
   },
   {
    "duration": 193,
    "start_time": "2023-10-30T20:55:09.222Z"
   },
   {
    "duration": 7100,
    "start_time": "2023-10-30T20:55:29.820Z"
   },
   {
    "duration": 8,
    "start_time": "2023-10-30T20:55:40.577Z"
   },
   {
    "duration": 425,
    "start_time": "2023-10-30T20:55:46.637Z"
   },
   {
    "duration": 197,
    "start_time": "2023-10-30T20:56:08.386Z"
   },
   {
    "duration": 7300,
    "start_time": "2023-10-30T20:56:25.593Z"
   },
   {
    "duration": 4,
    "start_time": "2023-10-30T20:56:40.367Z"
   },
   {
    "duration": 409,
    "start_time": "2023-10-30T20:56:42.751Z"
   },
   {
    "duration": 143,
    "start_time": "2023-10-30T20:56:49.427Z"
   },
   {
    "duration": 214,
    "start_time": "2023-10-30T20:57:10.361Z"
   },
   {
    "duration": 5,
    "start_time": "2023-10-30T20:57:14.395Z"
   },
   {
    "duration": 276,
    "start_time": "2023-10-30T20:57:16.188Z"
   },
   {
    "duration": 140,
    "start_time": "2023-10-30T20:57:19.236Z"
   },
   {
    "duration": 155,
    "start_time": "2023-10-30T20:57:28.219Z"
   },
   {
    "duration": 4,
    "start_time": "2023-10-30T20:57:31.116Z"
   },
   {
    "duration": 9,
    "start_time": "2023-10-30T20:57:33.468Z"
   },
   {
    "duration": 10,
    "start_time": "2023-10-30T20:57:59.780Z"
   },
   {
    "duration": 459,
    "start_time": "2023-10-30T20:58:34.763Z"
   },
   {
    "duration": 456,
    "start_time": "2023-10-30T21:00:15.283Z"
   },
   {
    "duration": 258,
    "start_time": "2023-10-30T21:00:19.349Z"
   }
  ],
  "kernelspec": {
   "display_name": "Python 3 (ipykernel)",
   "language": "python",
   "name": "python3"
  },
  "language_info": {
   "codemirror_mode": {
    "name": "ipython",
    "version": 3
   },
   "file_extension": ".py",
   "mimetype": "text/x-python",
   "name": "python",
   "nbconvert_exporter": "python",
   "pygments_lexer": "ipython3",
   "version": "3.10.9"
  },
  "toc": {
   "base_numbering": 1,
   "nav_menu": {},
   "number_sections": true,
   "sideBar": true,
   "skip_h1_title": true,
   "title_cell": "Содержание",
   "title_sidebar": "Contents",
   "toc_cell": true,
   "toc_position": {},
   "toc_section_display": true,
   "toc_window_display": true
  }
 },
 "nbformat": 4,
 "nbformat_minor": 2
}
